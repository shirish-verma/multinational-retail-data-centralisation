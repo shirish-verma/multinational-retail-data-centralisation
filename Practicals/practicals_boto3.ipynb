{
 "cells": [
  {
   "cell_type": "code",
   "execution_count": 3,
   "metadata": {},
   "outputs": [],
   "source": [
    "import boto3\n",
    "import requests"
   ]
  },
  {
   "cell_type": "code",
   "execution_count": 4,
   "metadata": {},
   "outputs": [],
   "source": [
    "# informing boto3 that we intend to use an S3 bucket\n",
    "s3_client = boto3.client('s3')"
   ]
  },
  {
   "cell_type": "code",
   "execution_count": 3,
   "metadata": {},
   "outputs": [],
   "source": [
    "# upload a file to your bucket\n",
    "response = s3_client.upload_file('/aicore/portal/ebay payout.jpg', 'srvawsbucket', '3060ti_payout.jpg')\n",
    "# s3_client.download_file(Bucket='', Object='', Filename='')"
   ]
  },
  {
   "cell_type": "code",
   "execution_count": 5,
   "metadata": {},
   "outputs": [],
   "source": [
    "s3 = boto3.resource('s3')\n",
    "my_bucket = s3.Bucket('srvawsbucket')"
   ]
  },
  {
   "cell_type": "code",
   "execution_count": 6,
   "metadata": {},
   "outputs": [
    {
     "name": "stdout",
     "output_type": "stream",
     "text": [
      "xbox issue.txt\n"
     ]
    }
   ],
   "source": [
    "for file in my_bucket.objects.all():\n",
    "    print(file.key)"
   ]
  },
  {
   "cell_type": "code",
   "execution_count": 6,
   "metadata": {},
   "outputs": [
    {
     "data": {
      "text/plain": [
       "{'ResponseMetadata': {'RequestId': 'V6A0XWD5MCY371T8',\n",
       "  'HostId': 'YLQ5PX3MlBeoer3L0jyHsXx8tFjppYq3HU7sLpH6k1uNpSjXNv6Agm79OBagVrm+2tMBI16nOYc=',\n",
       "  'HTTPStatusCode': 204,\n",
       "  'HTTPHeaders': {'x-amz-id-2': 'YLQ5PX3MlBeoer3L0jyHsXx8tFjppYq3HU7sLpH6k1uNpSjXNv6Agm79OBagVrm+2tMBI16nOYc=',\n",
       "   'x-amz-request-id': 'V6A0XWD5MCY371T8',\n",
       "   'date': 'Fri, 10 Feb 2023 16:37:10 GMT',\n",
       "   'server': 'AmazonS3'},\n",
       "  'RetryAttempts': 0}}"
      ]
     },
     "execution_count": 6,
     "metadata": {},
     "output_type": "execute_result"
    }
   ],
   "source": [
    "s3_client.delete_object(Bucket='srvawsbucket', Key='3060ti_payout.jpg')"
   ]
  },
  {
   "cell_type": "code",
   "execution_count": 7,
   "metadata": {},
   "outputs": [],
   "source": [
    "url = 'https://srvawsbucket.s3.eu-west-2.amazonaws.com/xbox+issue.txt'\n",
    "response = requests.get(url)\n",
    "with open('sometxtfile.txt', 'wb') as f:\n",
    "    f.write(response.content)"
   ]
  },
  {
   "cell_type": "code",
   "execution_count": 7,
   "metadata": {},
   "outputs": [
    {
     "name": "stdout",
     "output_type": "stream",
     "text": [
      "xbox issue.txt\n"
     ]
    }
   ],
   "source": [
    "for file in my_bucket.objects.all():\n",
    "    print(file.key)"
   ]
  }
 ],
 "metadata": {
  "kernelspec": {
   "display_name": "rdbs_env",
   "language": "python",
   "name": "python3"
  },
  "language_info": {
   "codemirror_mode": {
    "name": "ipython",
    "version": 3
   },
   "file_extension": ".py",
   "mimetype": "text/x-python",
   "name": "python",
   "nbconvert_exporter": "python",
   "pygments_lexer": "ipython3",
   "version": "3.10.8"
  },
  "orig_nbformat": 4,
  "vscode": {
   "interpreter": {
    "hash": "c747cf359c5d62baf35d647440ab2dec90826336fb959519a83a27651a4a271e"
   }
  }
 },
 "nbformat": 4,
 "nbformat_minor": 2
}
