{
 "cells": [
  {
   "cell_type": "code",
   "execution_count": 1,
   "metadata": {},
   "outputs": [],
   "source": [
    "from data_cleaning import DataCleaning\n",
    "from data_extraction import DataExtractor\n",
    "from database_utils import DatabaseConnector\n",
    "\n",
    "host_db_instance = DatabaseConnector(\"db_creds.yaml\")\n",
    "local_db_instance = DatabaseConnector(\"local_db_creds.yaml\")"
   ]
  },
  {
   "cell_type": "code",
   "execution_count": 2,
   "metadata": {},
   "outputs": [],
   "source": [
    "raw_user_df = DataExtractor.read_rds_table(host_db_instance.engine, 'legacy_users')\n",
    "clean_user_df = DataCleaning.clean_user_data(raw_user_df)\n",
    "local_db_instance.upload_to_db(clean_user_df, 'dim_users')"
   ]
  },
  {
   "cell_type": "code",
   "execution_count": 3,
   "metadata": {},
   "outputs": [],
   "source": [
    "raw_card_df = DataExtractor.retrieve_pdf_data('https://data-handling-public.s3.eu-west-1.amazonaws.com/card_details.pdf')\n",
    "clean_card_df = DataCleaning.clean_card_data(raw_card_df)\n",
    "local_db_instance.upload_to_db(clean_card_df, 'dim_card_details')"
   ]
  },
  {
   "cell_type": "code",
   "execution_count": 2,
   "metadata": {},
   "outputs": [],
   "source": [
    "number_of_stores = DataExtractor.list_number_of_stores('https://aqj7u5id95.execute-api.eu-west-1.amazonaws.com/prod/number_stores')\n",
    "raw_stores_df = DataExtractor.retrieve_stores_data(number_of_stores, 'https://aqj7u5id95.execute-api.eu-west-1.amazonaws.com/prod/store_details/{store_number}')\n",
    "clean_stores_df = DataCleaning.clean_store_data(raw_stores_df)\n",
    "local_db_instance.upload_to_db(clean_stores_df, 'dim_store_details')"
   ]
  },
  {
   "cell_type": "code",
   "execution_count": 2,
   "metadata": {},
   "outputs": [],
   "source": [
    "raw_products_df = DataExtractor.extract_from_s3('s3://data-handling-public/products.csv')\n",
    "interim_products_df = DataCleaning.clean_products_data(raw_products_df)\n",
    "clean_products_df = DataCleaning.convert_product_weights(interim_products_df)\n",
    "local_db_instance.upload_to_db(clean_products_df, 'dim_products')"
   ]
  },
  {
   "cell_type": "code",
   "execution_count": 3,
   "metadata": {},
   "outputs": [],
   "source": [
    "raw_orders_df = DataExtractor.read_rds_table(host_db_instance.engine, 'orders_table')\n",
    "clean_orders_df = DataCleaning.clean_orders_data(raw_orders_df)\n",
    "local_db_instance.upload_to_db(clean_orders_df, 'orders_table')"
   ]
  },
  {
   "cell_type": "code",
   "execution_count": 3,
   "metadata": {},
   "outputs": [],
   "source": [
    "raw_events_df = DataExtractor.retrieve_events_data('https://data-handling-public.s3.eu-west-1.amazonaws.com/date_details.json')\n",
    "clean_events_df = DataCleaning.clean_events_data(raw_events_df)\n",
    "local_db_instance.upload_to_db(clean_events_df, 'dim_date_times')"
   ]
  },
  {
   "cell_type": "code",
   "execution_count": null,
   "metadata": {},
   "outputs": [],
   "source": []
  }
 ],
 "metadata": {
  "kernelspec": {
   "display_name": "rdbs_env",
   "language": "python",
   "name": "python3"
  },
  "language_info": {
   "codemirror_mode": {
    "name": "ipython",
    "version": 3
   },
   "file_extension": ".py",
   "mimetype": "text/x-python",
   "name": "python",
   "nbconvert_exporter": "python",
   "pygments_lexer": "ipython3",
   "version": "3.10.8"
  },
  "orig_nbformat": 4,
  "vscode": {
   "interpreter": {
    "hash": "c747cf359c5d62baf35d647440ab2dec90826336fb959519a83a27651a4a271e"
   }
  }
 },
 "nbformat": 4,
 "nbformat_minor": 2
}
