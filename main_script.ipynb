{
 "cells": [
  {
   "cell_type": "code",
   "execution_count": 1,
   "metadata": {},
   "outputs": [],
   "source": [
    "from data_extraction import DataExtractor\n",
    "from database_utils import DatabaseConnector\n",
    "from data_cleaning import DataCleaning"
   ]
  },
  {
   "cell_type": "code",
   "execution_count": 2,
   "metadata": {},
   "outputs": [],
   "source": [
    "raw_user_df = DataExtractor.read_rds_table()\n",
    "clean_user_df = DataCleaning.clean_user_data(raw_user_df)\n",
    "DatabaseConnector.upload_to_db(clean_user_df, 'dim_users')"
   ]
  },
  {
   "cell_type": "code",
   "execution_count": 4,
   "metadata": {},
   "outputs": [
    {
     "ename": "AttributeError",
     "evalue": "'str' object has no attribute 'year'",
     "output_type": "error",
     "traceback": [
      "\u001b[1;31m---------------------------------------------------------------------------\u001b[0m",
      "\u001b[1;31mAttributeError\u001b[0m                            Traceback (most recent call last)",
      "Cell \u001b[1;32mIn[4], line 2\u001b[0m\n\u001b[0;32m      1\u001b[0m raw_card_df \u001b[39m=\u001b[39m DataExtractor\u001b[39m.\u001b[39mretrieve_pdf_data(\u001b[39m'\u001b[39m\u001b[39mhttps://data-handling-public.s3.eu-west-1.amazonaws.com/card_details.pdf\u001b[39m\u001b[39m'\u001b[39m)\n\u001b[1;32m----> 2\u001b[0m clean_card_df \u001b[39m=\u001b[39m DataCleaning\u001b[39m.\u001b[39;49mclean_card_data(raw_card_df)\n",
      "File \u001b[1;32md:\\aicore\\multinational-retail-data-centralisation\\data_cleaning.py:34\u001b[0m, in \u001b[0;36mDataCleaning.clean_card_data\u001b[1;34m(card_df)\u001b[0m\n\u001b[0;32m     32\u001b[0m card_df\u001b[39m.\u001b[39mset_index(\u001b[39m'\u001b[39m\u001b[39mindex\u001b[39m\u001b[39m'\u001b[39m, inplace\u001b[39m=\u001b[39m\u001b[39mTrue\u001b[39;00m)\n\u001b[0;32m     33\u001b[0m \u001b[39m# convert expiry date to datetime and also set it to last day of month\u001b[39;00m\n\u001b[1;32m---> 34\u001b[0m card_df[\u001b[39m'\u001b[39m\u001b[39mexpiry_date\u001b[39m\u001b[39m'\u001b[39m] \u001b[39m=\u001b[39m card_df[\u001b[39m'\u001b[39;49m\u001b[39mexpiry_date\u001b[39;49m\u001b[39m'\u001b[39;49m]\u001b[39m.\u001b[39;49mapply(\u001b[39mlambda\u001b[39;49;00m x : datetime(x\u001b[39m.\u001b[39;49myear, x\u001b[39m.\u001b[39;49mmonth, (calendar\u001b[39m.\u001b[39;49mmonthrange(x\u001b[39m.\u001b[39;49myear, x\u001b[39m.\u001b[39;49mmonth)[\u001b[39m1\u001b[39;49m])))\n\u001b[0;32m     35\u001b[0m \u001b[39m# optimize column dtypes\u001b[39;00m\n\u001b[0;32m     36\u001b[0m card_df[\u001b[39m'\u001b[39m\u001b[39mcard_provider\u001b[39m\u001b[39m'\u001b[39m] \u001b[39m=\u001b[39m card_df[\u001b[39m'\u001b[39m\u001b[39mcard_provider\u001b[39m\u001b[39m'\u001b[39m]\u001b[39m.\u001b[39mastype(\u001b[39m'\u001b[39m\u001b[39mcategory\u001b[39m\u001b[39m'\u001b[39m)\n",
      "File \u001b[1;32mc:\\Users\\shiri\\.conda\\envs\\rdbs_env\\lib\\site-packages\\pandas\\core\\series.py:4771\u001b[0m, in \u001b[0;36mSeries.apply\u001b[1;34m(self, func, convert_dtype, args, **kwargs)\u001b[0m\n\u001b[0;32m   4661\u001b[0m \u001b[39mdef\u001b[39;00m \u001b[39mapply\u001b[39m(\n\u001b[0;32m   4662\u001b[0m     \u001b[39mself\u001b[39m,\n\u001b[0;32m   4663\u001b[0m     func: AggFuncType,\n\u001b[1;32m   (...)\u001b[0m\n\u001b[0;32m   4666\u001b[0m     \u001b[39m*\u001b[39m\u001b[39m*\u001b[39mkwargs,\n\u001b[0;32m   4667\u001b[0m ) \u001b[39m-\u001b[39m\u001b[39m>\u001b[39m DataFrame \u001b[39m|\u001b[39m Series:\n\u001b[0;32m   4668\u001b[0m     \u001b[39m\"\"\"\u001b[39;00m\n\u001b[0;32m   4669\u001b[0m \u001b[39m    Invoke function on values of Series.\u001b[39;00m\n\u001b[0;32m   4670\u001b[0m \n\u001b[1;32m   (...)\u001b[0m\n\u001b[0;32m   4769\u001b[0m \u001b[39m    dtype: float64\u001b[39;00m\n\u001b[0;32m   4770\u001b[0m \u001b[39m    \"\"\"\u001b[39;00m\n\u001b[1;32m-> 4771\u001b[0m     \u001b[39mreturn\u001b[39;00m SeriesApply(\u001b[39mself\u001b[39;49m, func, convert_dtype, args, kwargs)\u001b[39m.\u001b[39;49mapply()\n",
      "File \u001b[1;32mc:\\Users\\shiri\\.conda\\envs\\rdbs_env\\lib\\site-packages\\pandas\\core\\apply.py:1105\u001b[0m, in \u001b[0;36mSeriesApply.apply\u001b[1;34m(self)\u001b[0m\n\u001b[0;32m   1102\u001b[0m     \u001b[39mreturn\u001b[39;00m \u001b[39mself\u001b[39m\u001b[39m.\u001b[39mapply_str()\n\u001b[0;32m   1104\u001b[0m \u001b[39m# self.f is Callable\u001b[39;00m\n\u001b[1;32m-> 1105\u001b[0m \u001b[39mreturn\u001b[39;00m \u001b[39mself\u001b[39;49m\u001b[39m.\u001b[39;49mapply_standard()\n",
      "File \u001b[1;32mc:\\Users\\shiri\\.conda\\envs\\rdbs_env\\lib\\site-packages\\pandas\\core\\apply.py:1156\u001b[0m, in \u001b[0;36mSeriesApply.apply_standard\u001b[1;34m(self)\u001b[0m\n\u001b[0;32m   1154\u001b[0m     \u001b[39melse\u001b[39;00m:\n\u001b[0;32m   1155\u001b[0m         values \u001b[39m=\u001b[39m obj\u001b[39m.\u001b[39mastype(\u001b[39mobject\u001b[39m)\u001b[39m.\u001b[39m_values\n\u001b[1;32m-> 1156\u001b[0m         mapped \u001b[39m=\u001b[39m lib\u001b[39m.\u001b[39;49mmap_infer(\n\u001b[0;32m   1157\u001b[0m             values,\n\u001b[0;32m   1158\u001b[0m             f,\n\u001b[0;32m   1159\u001b[0m             convert\u001b[39m=\u001b[39;49m\u001b[39mself\u001b[39;49m\u001b[39m.\u001b[39;49mconvert_dtype,\n\u001b[0;32m   1160\u001b[0m         )\n\u001b[0;32m   1162\u001b[0m \u001b[39mif\u001b[39;00m \u001b[39mlen\u001b[39m(mapped) \u001b[39mand\u001b[39;00m \u001b[39misinstance\u001b[39m(mapped[\u001b[39m0\u001b[39m], ABCSeries):\n\u001b[0;32m   1163\u001b[0m     \u001b[39m# GH#43986 Need to do list(mapped) in order to get treated as nested\u001b[39;00m\n\u001b[0;32m   1164\u001b[0m     \u001b[39m#  See also GH#25959 regarding EA support\u001b[39;00m\n\u001b[0;32m   1165\u001b[0m     \u001b[39mreturn\u001b[39;00m obj\u001b[39m.\u001b[39m_constructor_expanddim(\u001b[39mlist\u001b[39m(mapped), index\u001b[39m=\u001b[39mobj\u001b[39m.\u001b[39mindex)\n",
      "File \u001b[1;32mc:\\Users\\shiri\\.conda\\envs\\rdbs_env\\lib\\site-packages\\pandas\\_libs\\lib.pyx:2918\u001b[0m, in \u001b[0;36mpandas._libs.lib.map_infer\u001b[1;34m()\u001b[0m\n",
      "File \u001b[1;32md:\\aicore\\multinational-retail-data-centralisation\\data_cleaning.py:34\u001b[0m, in \u001b[0;36mDataCleaning.clean_card_data.<locals>.<lambda>\u001b[1;34m(x)\u001b[0m\n\u001b[0;32m     32\u001b[0m card_df\u001b[39m.\u001b[39mset_index(\u001b[39m'\u001b[39m\u001b[39mindex\u001b[39m\u001b[39m'\u001b[39m, inplace\u001b[39m=\u001b[39m\u001b[39mTrue\u001b[39;00m)\n\u001b[0;32m     33\u001b[0m \u001b[39m# convert expiry date to datetime and also set it to last day of month\u001b[39;00m\n\u001b[1;32m---> 34\u001b[0m card_df[\u001b[39m'\u001b[39m\u001b[39mexpiry_date\u001b[39m\u001b[39m'\u001b[39m] \u001b[39m=\u001b[39m card_df[\u001b[39m'\u001b[39m\u001b[39mexpiry_date\u001b[39m\u001b[39m'\u001b[39m]\u001b[39m.\u001b[39mapply(\u001b[39mlambda\u001b[39;00m x : datetime(x\u001b[39m.\u001b[39;49myear, x\u001b[39m.\u001b[39mmonth, (calendar\u001b[39m.\u001b[39mmonthrange(x\u001b[39m.\u001b[39myear, x\u001b[39m.\u001b[39mmonth)[\u001b[39m1\u001b[39m])))\n\u001b[0;32m     35\u001b[0m \u001b[39m# optimize column dtypes\u001b[39;00m\n\u001b[0;32m     36\u001b[0m card_df[\u001b[39m'\u001b[39m\u001b[39mcard_provider\u001b[39m\u001b[39m'\u001b[39m] \u001b[39m=\u001b[39m card_df[\u001b[39m'\u001b[39m\u001b[39mcard_provider\u001b[39m\u001b[39m'\u001b[39m]\u001b[39m.\u001b[39mastype(\u001b[39m'\u001b[39m\u001b[39mcategory\u001b[39m\u001b[39m'\u001b[39m)\n",
      "\u001b[1;31mAttributeError\u001b[0m: 'str' object has no attribute 'year'"
     ]
    }
   ],
   "source": [
    "raw_card_df = DataExtractor.retrieve_pdf_data('https://data-handling-public.s3.eu-west-1.amazonaws.com/card_details.pdf')\n",
    "clean_card_df = DataCleaning.clean_card_data(raw_card_df)"
   ]
  },
  {
   "cell_type": "code",
   "execution_count": null,
   "metadata": {},
   "outputs": [],
   "source": [
    "clean_card_df.info()"
   ]
  }
 ],
 "metadata": {
  "kernelspec": {
   "display_name": "rdbs_env",
   "language": "python",
   "name": "python3"
  },
  "language_info": {
   "codemirror_mode": {
    "name": "ipython",
    "version": 3
   },
   "file_extension": ".py",
   "mimetype": "text/x-python",
   "name": "python",
   "nbconvert_exporter": "python",
   "pygments_lexer": "ipython3",
   "version": "3.10.8"
  },
  "orig_nbformat": 4,
  "vscode": {
   "interpreter": {
    "hash": "c747cf359c5d62baf35d647440ab2dec90826336fb959519a83a27651a4a271e"
   }
  }
 },
 "nbformat": 4,
 "nbformat_minor": 2
}
