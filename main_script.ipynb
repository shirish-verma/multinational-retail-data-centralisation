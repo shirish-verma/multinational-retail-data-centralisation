{
 "cells": [
  {
   "cell_type": "code",
   "execution_count": 1,
   "metadata": {},
   "outputs": [],
   "source": [
    "from data_cleaning import DataCleaning\n",
    "from data_extraction import DataExtractor\n",
    "from database_utils import DatabaseConnector"
   ]
  },
  {
   "cell_type": "code",
   "execution_count": 2,
   "metadata": {},
   "outputs": [],
   "source": [
    "raw_user_df = DataExtractor.read_rds_table()\n",
    "clean_user_df = DataCleaning.clean_user_data(raw_user_df)\n",
    "DatabaseConnector.upload_to_db(clean_user_df, 'dim_users')"
   ]
  },
  {
   "cell_type": "code",
   "execution_count": 4,
   "metadata": {},
   "outputs": [],
   "source": [
    "raw_card_df = DataExtractor.retrieve_pdf_data('https://data-handling-public.s3.eu-west-1.amazonaws.com/card_details.pdf')\n",
    "clean_card_df = DataCleaning.clean_card_data(raw_card_df)\n",
    "DatabaseConnector.upload_to_db(clean_card_df, 'dim_card_details')"
   ]
  },
  {
   "cell_type": "code",
   "execution_count": null,
   "metadata": {},
   "outputs": [],
   "source": [
    "number_of_stores = DataExtractor.list_number_of_stores()\n",
    "stores_df = DataExtractor.retrieve_stores_data(number_of_stores)\n"
   ]
  }
 ],
 "metadata": {
  "kernelspec": {
   "display_name": "rdbs_env",
   "language": "python",
   "name": "python3"
  },
  "language_info": {
   "codemirror_mode": {
    "name": "ipython",
    "version": 3
   },
   "file_extension": ".py",
   "mimetype": "text/x-python",
   "name": "python",
   "nbconvert_exporter": "python",
   "pygments_lexer": "ipython3",
   "version": "3.10.8"
  },
  "orig_nbformat": 4,
  "vscode": {
   "interpreter": {
    "hash": "c747cf359c5d62baf35d647440ab2dec90826336fb959519a83a27651a4a271e"
   }
  }
 },
 "nbformat": 4,
 "nbformat_minor": 2
}
