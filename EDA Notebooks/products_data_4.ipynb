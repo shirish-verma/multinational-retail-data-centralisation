{
 "cells": [
  {
   "cell_type": "code",
   "execution_count": 3,
   "metadata": {},
   "outputs": [],
   "source": [
    "import boto3\n",
    "import requests\n",
    "import pandas as pd\n",
    "from data_cleaning import DataCleaning\n",
    "from data_extraction import DataExtractor\n",
    "from database_utils import DatabaseConnector\n",
    "from awscli.customizations.s3.utils import split_s3_bucket_key"
   ]
  },
  {
   "cell_type": "code",
   "execution_count": 10,
   "metadata": {},
   "outputs": [
    {
     "data": {
      "text/plain": [
       "('data-handling-public', 'products.csv')"
      ]
     },
     "execution_count": 10,
     "metadata": {},
     "output_type": "execute_result"
    }
   ],
   "source": [
    "s3_uri = 's3://data-handling-public/products.csv'\n",
    "bucket_name, key_name = split_s3_bucket_key(s3_uri)\n",
    "bucket_name, key_name"
   ]
  },
  {
   "cell_type": "code",
   "execution_count": 17,
   "metadata": {},
   "outputs": [
    {
     "data": {
      "text/plain": [
       "{'ResponseMetadata': {'RequestId': '1N6NNW3YRBHMKYX0',\n",
       "  'HostId': 'ss81Ye29fLhJSrqcCg8SIuB5kr3yNgj0aC2AhfCqUSb9Mv1p1/yFzeu+ByWP7x7k62/KbBk2iH0=',\n",
       "  'HTTPStatusCode': 200,\n",
       "  'HTTPHeaders': {'x-amz-id-2': 'ss81Ye29fLhJSrqcCg8SIuB5kr3yNgj0aC2AhfCqUSb9Mv1p1/yFzeu+ByWP7x7k62/KbBk2iH0=',\n",
       "   'x-amz-request-id': '1N6NNW3YRBHMKYX0',\n",
       "   'date': 'Fri, 10 Feb 2023 17:04:28 GMT',\n",
       "   'last-modified': 'Fri, 06 Jan 2023 12:57:09 GMT',\n",
       "   'etag': '\"4822fcf98df9f30258d2405d18f74c2f\"',\n",
       "   'x-amz-server-side-encryption': 'AES256',\n",
       "   'accept-ranges': 'bytes',\n",
       "   'content-type': 'text/csv',\n",
       "   'server': 'AmazonS3',\n",
       "   'content-length': '284166'},\n",
       "  'RetryAttempts': 1},\n",
       " 'AcceptRanges': 'bytes',\n",
       " 'LastModified': datetime.datetime(2023, 1, 6, 12, 57, 9, tzinfo=tzutc()),\n",
       " 'ContentLength': 284166,\n",
       " 'ETag': '\"4822fcf98df9f30258d2405d18f74c2f\"',\n",
       " 'ContentType': 'text/csv',\n",
       " 'ServerSideEncryption': 'AES256',\n",
       " 'Metadata': {},\n",
       " 'Body': <botocore.response.StreamingBody at 0x20593d8bb50>}"
      ]
     },
     "execution_count": 17,
     "metadata": {},
     "output_type": "execute_result"
    }
   ],
   "source": [
    "client = boto3.client('s3')\n",
    "response = client.get_object(Bucket=bucket_name, Key=key_name)\n",
    "response"
   ]
  },
  {
   "cell_type": "code",
   "execution_count": 18,
   "metadata": {},
   "outputs": [],
   "source": [
    "client.download_file(Bucket=bucket_name, Key=key_name, Filename='products.csv')"
   ]
  },
  {
   "cell_type": "code",
   "execution_count": 20,
   "metadata": {},
   "outputs": [
    {
     "name": "stdout",
     "output_type": "stream",
     "text": [
      "<class 'pandas.core.frame.DataFrame'>\n",
      "Int64Index: 1853 entries, 0 to 1852\n",
      "Data columns (total 9 columns):\n",
      " #   Column         Non-Null Count  Dtype \n",
      "---  ------         --------------  ----- \n",
      " 0   product_name   1849 non-null   object\n",
      " 1   product_price  1849 non-null   object\n",
      " 2   weight         1849 non-null   object\n",
      " 3   category       1849 non-null   object\n",
      " 4   EAN            1849 non-null   object\n",
      " 5   date_added     1849 non-null   object\n",
      " 6   uuid           1849 non-null   object\n",
      " 7   removed        1849 non-null   object\n",
      " 8   product_code   1849 non-null   object\n",
      "dtypes: object(9)\n",
      "memory usage: 144.8+ KB\n"
     ]
    }
   ],
   "source": [
    "products_df = pd.read_csv('products.csv', index_col=0)\n",
    "products_df.info()"
   ]
  },
  {
   "cell_type": "code",
   "execution_count": 21,
   "metadata": {},
   "outputs": [
    {
     "data": {
      "text/html": [
       "<div>\n",
       "<style scoped>\n",
       "    .dataframe tbody tr th:only-of-type {\n",
       "        vertical-align: middle;\n",
       "    }\n",
       "\n",
       "    .dataframe tbody tr th {\n",
       "        vertical-align: top;\n",
       "    }\n",
       "\n",
       "    .dataframe thead th {\n",
       "        text-align: right;\n",
       "    }\n",
       "</style>\n",
       "<table border=\"1\" class=\"dataframe\">\n",
       "  <thead>\n",
       "    <tr style=\"text-align: right;\">\n",
       "      <th></th>\n",
       "      <th>product_name</th>\n",
       "      <th>product_price</th>\n",
       "      <th>weight</th>\n",
       "      <th>category</th>\n",
       "      <th>EAN</th>\n",
       "      <th>date_added</th>\n",
       "      <th>uuid</th>\n",
       "      <th>removed</th>\n",
       "      <th>product_code</th>\n",
       "    </tr>\n",
       "  </thead>\n",
       "  <tbody>\n",
       "    <tr>\n",
       "      <th>0</th>\n",
       "      <td>FurReal Dazzlin' Dimples My Playful Dolphin</td>\n",
       "      <td>£39.99</td>\n",
       "      <td>1.6kg</td>\n",
       "      <td>toys-and-games</td>\n",
       "      <td>7425710935115</td>\n",
       "      <td>2005-12-02</td>\n",
       "      <td>83dc0a69-f96f-4c34-bcb7-928acae19a94</td>\n",
       "      <td>Still_avaliable</td>\n",
       "      <td>R7-3126933h</td>\n",
       "    </tr>\n",
       "    <tr>\n",
       "      <th>1</th>\n",
       "      <td>Tiffany's World Day Out At The Park</td>\n",
       "      <td>£12.99</td>\n",
       "      <td>0.48kg</td>\n",
       "      <td>toys-and-games</td>\n",
       "      <td>487128731892</td>\n",
       "      <td>2006-01-09</td>\n",
       "      <td>712254d7-aea7-4310-aff8-8bcdd0aec7ff</td>\n",
       "      <td>Still_avaliable</td>\n",
       "      <td>C2-7287916l</td>\n",
       "    </tr>\n",
       "    <tr>\n",
       "      <th>2</th>\n",
       "      <td>Tiffany's World Pups Picnic Playset</td>\n",
       "      <td>£7.00</td>\n",
       "      <td>590g</td>\n",
       "      <td>toys-and-games</td>\n",
       "      <td>1945816904649</td>\n",
       "      <td>1997-03-29</td>\n",
       "      <td>b089ef6f-b628-4e37-811d-fffe0102ba64</td>\n",
       "      <td>Still_avaliable</td>\n",
       "      <td>S7-1175877v</td>\n",
       "    </tr>\n",
       "    <tr>\n",
       "      <th>3</th>\n",
       "      <td>Tiffany's World Wildlife Park Adventures</td>\n",
       "      <td>£12.99</td>\n",
       "      <td>540g</td>\n",
       "      <td>toys-and-games</td>\n",
       "      <td>1569790890899</td>\n",
       "      <td>2013-03-20</td>\n",
       "      <td>d55de422-8b98-47d6-9991-e4bc4c5c0cb0</td>\n",
       "      <td>Removed</td>\n",
       "      <td>D8-8421505n</td>\n",
       "    </tr>\n",
       "    <tr>\n",
       "      <th>4</th>\n",
       "      <td>Cosatto Cosy Dolls Pram</td>\n",
       "      <td>£30.00</td>\n",
       "      <td>1.91kg</td>\n",
       "      <td>toys-and-games</td>\n",
       "      <td>7142740213920</td>\n",
       "      <td>2007-12-23</td>\n",
       "      <td>7945b657-cb02-4cc5-96cf-f65ed0a8f235</td>\n",
       "      <td>Still_avaliable</td>\n",
       "      <td>B6-2596063a</td>\n",
       "    </tr>\n",
       "    <tr>\n",
       "      <th>5</th>\n",
       "      <td>Cocomelon Magnetic Scribbler</td>\n",
       "      <td>£12.99</td>\n",
       "      <td>0.91kg</td>\n",
       "      <td>toys-and-games</td>\n",
       "      <td>9022505507373</td>\n",
       "      <td>2007-02-07</td>\n",
       "      <td>cdd568e3-9657-412b-b3a6-52f6adff966b</td>\n",
       "      <td>Still_avaliable</td>\n",
       "      <td>g3-7974400s</td>\n",
       "    </tr>\n",
       "    <tr>\n",
       "      <th>6</th>\n",
       "      <td>Peppa Pig House Felties</td>\n",
       "      <td>£7.00</td>\n",
       "      <td>0.46kg</td>\n",
       "      <td>toys-and-games</td>\n",
       "      <td>5997977455405</td>\n",
       "      <td>2009-01-24</td>\n",
       "      <td>58112753-a53f-4696-ab8a-7186c7e4a57e</td>\n",
       "      <td>Still_avaliable</td>\n",
       "      <td>U3-5148457q</td>\n",
       "    </tr>\n",
       "    <tr>\n",
       "      <th>7</th>\n",
       "      <td>Paw Patrol Walkie Talkies</td>\n",
       "      <td>£12.99</td>\n",
       "      <td>0.38kg</td>\n",
       "      <td>toys-and-games</td>\n",
       "      <td>58555395171</td>\n",
       "      <td>2013-08-13</td>\n",
       "      <td>797d133a-0989-4707-914d-7c043bcbbd86</td>\n",
       "      <td>Still_avaliable</td>\n",
       "      <td>q8-5387483Z</td>\n",
       "    </tr>\n",
       "    <tr>\n",
       "      <th>8</th>\n",
       "      <td>Peppa Pig 3D Walkie Talkies</td>\n",
       "      <td>£12.99</td>\n",
       "      <td>0.38kg</td>\n",
       "      <td>toys-and-games</td>\n",
       "      <td>9155372675699</td>\n",
       "      <td>2005-05-26</td>\n",
       "      <td>a6c23718-0e25-4419-8018-600c44e5e3df</td>\n",
       "      <td>Still_avaliable</td>\n",
       "      <td>i4-2651057I</td>\n",
       "    </tr>\n",
       "    <tr>\n",
       "      <th>9</th>\n",
       "      <td>Disney Encanto Magical Casa Madrigal</td>\n",
       "      <td>£89.99</td>\n",
       "      <td>8.981kg</td>\n",
       "      <td>toys-and-games</td>\n",
       "      <td>2740880244498</td>\n",
       "      <td>2003-08-05</td>\n",
       "      <td>2e78e9a4-2b77-4b59-95e5-d60ee01ef183</td>\n",
       "      <td>Still_avaliable</td>\n",
       "      <td>b6-6234052g</td>\n",
       "    </tr>\n",
       "  </tbody>\n",
       "</table>\n",
       "</div>"
      ],
      "text/plain": [
       "                                  product_name product_price   weight  \\\n",
       "0  FurReal Dazzlin' Dimples My Playful Dolphin        £39.99    1.6kg   \n",
       "1          Tiffany's World Day Out At The Park        £12.99   0.48kg   \n",
       "2          Tiffany's World Pups Picnic Playset         £7.00     590g   \n",
       "3     Tiffany's World Wildlife Park Adventures        £12.99     540g   \n",
       "4                      Cosatto Cosy Dolls Pram        £30.00   1.91kg   \n",
       "5                 Cocomelon Magnetic Scribbler        £12.99   0.91kg   \n",
       "6                      Peppa Pig House Felties         £7.00   0.46kg   \n",
       "7                    Paw Patrol Walkie Talkies        £12.99   0.38kg   \n",
       "8                  Peppa Pig 3D Walkie Talkies        £12.99   0.38kg   \n",
       "9         Disney Encanto Magical Casa Madrigal        £89.99  8.981kg   \n",
       "\n",
       "         category            EAN  date_added  \\\n",
       "0  toys-and-games  7425710935115  2005-12-02   \n",
       "1  toys-and-games   487128731892  2006-01-09   \n",
       "2  toys-and-games  1945816904649  1997-03-29   \n",
       "3  toys-and-games  1569790890899  2013-03-20   \n",
       "4  toys-and-games  7142740213920  2007-12-23   \n",
       "5  toys-and-games  9022505507373  2007-02-07   \n",
       "6  toys-and-games  5997977455405  2009-01-24   \n",
       "7  toys-and-games    58555395171  2013-08-13   \n",
       "8  toys-and-games  9155372675699  2005-05-26   \n",
       "9  toys-and-games  2740880244498  2003-08-05   \n",
       "\n",
       "                                   uuid          removed product_code  \n",
       "0  83dc0a69-f96f-4c34-bcb7-928acae19a94  Still_avaliable  R7-3126933h  \n",
       "1  712254d7-aea7-4310-aff8-8bcdd0aec7ff  Still_avaliable  C2-7287916l  \n",
       "2  b089ef6f-b628-4e37-811d-fffe0102ba64  Still_avaliable  S7-1175877v  \n",
       "3  d55de422-8b98-47d6-9991-e4bc4c5c0cb0          Removed  D8-8421505n  \n",
       "4  7945b657-cb02-4cc5-96cf-f65ed0a8f235  Still_avaliable  B6-2596063a  \n",
       "5  cdd568e3-9657-412b-b3a6-52f6adff966b  Still_avaliable  g3-7974400s  \n",
       "6  58112753-a53f-4696-ab8a-7186c7e4a57e  Still_avaliable  U3-5148457q  \n",
       "7  797d133a-0989-4707-914d-7c043bcbbd86  Still_avaliable  q8-5387483Z  \n",
       "8  a6c23718-0e25-4419-8018-600c44e5e3df  Still_avaliable  i4-2651057I  \n",
       "9  2e78e9a4-2b77-4b59-95e5-d60ee01ef183  Still_avaliable  b6-6234052g  "
      ]
     },
     "execution_count": 21,
     "metadata": {},
     "output_type": "execute_result"
    }
   ],
   "source": [
    "products_df.head(10)"
   ]
  },
  {
   "cell_type": "code",
   "execution_count": 23,
   "metadata": {},
   "outputs": [],
   "source": [
    "url_string = str('https://aqj7u5id95.execute-api.eu-west-1.amazonaws.com/prod/store_details/{store_number}').split('{')"
   ]
  },
  {
   "cell_type": "code",
   "execution_count": 25,
   "metadata": {},
   "outputs": [
    {
     "data": {
      "text/plain": [
       "'https://aqj7u5id95.execute-api.eu-west-1.amazonaws.com/prod/store_details/'"
      ]
     },
     "execution_count": 25,
     "metadata": {},
     "output_type": "execute_result"
    }
   ],
   "source": [
    "url_string[0]"
   ]
  },
  {
   "cell_type": "code",
   "execution_count": null,
   "metadata": {},
   "outputs": [],
   "source": []
  }
 ],
 "metadata": {
  "kernelspec": {
   "display_name": "rdbs_env",
   "language": "python",
   "name": "python3"
  },
  "language_info": {
   "codemirror_mode": {
    "name": "ipython",
    "version": 3
   },
   "file_extension": ".py",
   "mimetype": "text/x-python",
   "name": "python",
   "nbconvert_exporter": "python",
   "pygments_lexer": "ipython3",
   "version": "3.10.8 | packaged by conda-forge | (main, Nov 24 2022, 14:07:00) [MSC v.1916 64 bit (AMD64)]"
  },
  "orig_nbformat": 4,
  "vscode": {
   "interpreter": {
    "hash": "c747cf359c5d62baf35d647440ab2dec90826336fb959519a83a27651a4a271e"
   }
  }
 },
 "nbformat": 4,
 "nbformat_minor": 2
}
