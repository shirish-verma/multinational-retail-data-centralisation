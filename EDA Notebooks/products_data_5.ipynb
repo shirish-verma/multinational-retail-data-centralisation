{
 "cells": [
  {
   "cell_type": "code",
   "execution_count": 1,
   "metadata": {},
   "outputs": [],
   "source": [
    "import re as regex\n",
    "import pandas as pd\n",
    "from data_extraction import DataExtractor"
   ]
  },
  {
   "cell_type": "code",
   "execution_count": 2,
   "metadata": {},
   "outputs": [],
   "source": [
    "products_df = DataExtractor.extract_from_s3('s3://data-handling-public/products.csv')"
   ]
  },
  {
   "cell_type": "code",
   "execution_count": 5,
   "metadata": {},
   "outputs": [
    {
     "data": {
      "text/html": [
       "<div>\n",
       "<style scoped>\n",
       "    .dataframe tbody tr th:only-of-type {\n",
       "        vertical-align: middle;\n",
       "    }\n",
       "\n",
       "    .dataframe tbody tr th {\n",
       "        vertical-align: top;\n",
       "    }\n",
       "\n",
       "    .dataframe thead th {\n",
       "        text-align: right;\n",
       "    }\n",
       "</style>\n",
       "<table border=\"1\" class=\"dataframe\">\n",
       "  <thead>\n",
       "    <tr style=\"text-align: right;\">\n",
       "      <th></th>\n",
       "      <th>product_name</th>\n",
       "      <th>product_price</th>\n",
       "      <th>weight</th>\n",
       "      <th>category</th>\n",
       "      <th>EAN</th>\n",
       "      <th>date_added</th>\n",
       "      <th>uuid</th>\n",
       "      <th>removed</th>\n",
       "      <th>product_code</th>\n",
       "    </tr>\n",
       "  </thead>\n",
       "  <tbody>\n",
       "    <tr>\n",
       "      <th>0</th>\n",
       "      <td>FurReal Dazzlin' Dimples My Playful Dolphin</td>\n",
       "      <td>£39.99</td>\n",
       "      <td>1.6kg</td>\n",
       "      <td>toys-and-games</td>\n",
       "      <td>7425710935115</td>\n",
       "      <td>2005-12-02</td>\n",
       "      <td>83dc0a69-f96f-4c34-bcb7-928acae19a94</td>\n",
       "      <td>Still_avaliable</td>\n",
       "      <td>R7-3126933h</td>\n",
       "    </tr>\n",
       "    <tr>\n",
       "      <th>1</th>\n",
       "      <td>Tiffany's World Day Out At The Park</td>\n",
       "      <td>£12.99</td>\n",
       "      <td>0.48kg</td>\n",
       "      <td>toys-and-games</td>\n",
       "      <td>487128731892</td>\n",
       "      <td>2006-01-09</td>\n",
       "      <td>712254d7-aea7-4310-aff8-8bcdd0aec7ff</td>\n",
       "      <td>Still_avaliable</td>\n",
       "      <td>C2-7287916l</td>\n",
       "    </tr>\n",
       "    <tr>\n",
       "      <th>2</th>\n",
       "      <td>Tiffany's World Pups Picnic Playset</td>\n",
       "      <td>£7.00</td>\n",
       "      <td>590g</td>\n",
       "      <td>toys-and-games</td>\n",
       "      <td>1945816904649</td>\n",
       "      <td>1997-03-29</td>\n",
       "      <td>b089ef6f-b628-4e37-811d-fffe0102ba64</td>\n",
       "      <td>Still_avaliable</td>\n",
       "      <td>S7-1175877v</td>\n",
       "    </tr>\n",
       "    <tr>\n",
       "      <th>3</th>\n",
       "      <td>Tiffany's World Wildlife Park Adventures</td>\n",
       "      <td>£12.99</td>\n",
       "      <td>540g</td>\n",
       "      <td>toys-and-games</td>\n",
       "      <td>1569790890899</td>\n",
       "      <td>2013-03-20</td>\n",
       "      <td>d55de422-8b98-47d6-9991-e4bc4c5c0cb0</td>\n",
       "      <td>Removed</td>\n",
       "      <td>D8-8421505n</td>\n",
       "    </tr>\n",
       "    <tr>\n",
       "      <th>4</th>\n",
       "      <td>Cosatto Cosy Dolls Pram</td>\n",
       "      <td>£30.00</td>\n",
       "      <td>1.91kg</td>\n",
       "      <td>toys-and-games</td>\n",
       "      <td>7142740213920</td>\n",
       "      <td>2007-12-23</td>\n",
       "      <td>7945b657-cb02-4cc5-96cf-f65ed0a8f235</td>\n",
       "      <td>Still_avaliable</td>\n",
       "      <td>B6-2596063a</td>\n",
       "    </tr>\n",
       "  </tbody>\n",
       "</table>\n",
       "</div>"
      ],
      "text/plain": [
       "                                  product_name product_price  weight  \\\n",
       "0  FurReal Dazzlin' Dimples My Playful Dolphin        £39.99   1.6kg   \n",
       "1          Tiffany's World Day Out At The Park        £12.99  0.48kg   \n",
       "2          Tiffany's World Pups Picnic Playset         £7.00    590g   \n",
       "3     Tiffany's World Wildlife Park Adventures        £12.99    540g   \n",
       "4                      Cosatto Cosy Dolls Pram        £30.00  1.91kg   \n",
       "\n",
       "         category            EAN  date_added  \\\n",
       "0  toys-and-games  7425710935115  2005-12-02   \n",
       "1  toys-and-games   487128731892  2006-01-09   \n",
       "2  toys-and-games  1945816904649  1997-03-29   \n",
       "3  toys-and-games  1569790890899  2013-03-20   \n",
       "4  toys-and-games  7142740213920  2007-12-23   \n",
       "\n",
       "                                   uuid          removed product_code  \n",
       "0  83dc0a69-f96f-4c34-bcb7-928acae19a94  Still_avaliable  R7-3126933h  \n",
       "1  712254d7-aea7-4310-aff8-8bcdd0aec7ff  Still_avaliable  C2-7287916l  \n",
       "2  b089ef6f-b628-4e37-811d-fffe0102ba64  Still_avaliable  S7-1175877v  \n",
       "3  d55de422-8b98-47d6-9991-e4bc4c5c0cb0          Removed  D8-8421505n  \n",
       "4  7945b657-cb02-4cc5-96cf-f65ed0a8f235  Still_avaliable  B6-2596063a  "
      ]
     },
     "execution_count": 5,
     "metadata": {},
     "output_type": "execute_result"
    }
   ],
   "source": [
    "products_df.head(5)"
   ]
  },
  {
   "cell_type": "code",
   "execution_count": 16,
   "metadata": {},
   "outputs": [
    {
     "data": {
      "text/html": [
       "<div>\n",
       "<style scoped>\n",
       "    .dataframe tbody tr th:only-of-type {\n",
       "        vertical-align: middle;\n",
       "    }\n",
       "\n",
       "    .dataframe tbody tr th {\n",
       "        vertical-align: top;\n",
       "    }\n",
       "\n",
       "    .dataframe thead th {\n",
       "        text-align: right;\n",
       "    }\n",
       "</style>\n",
       "<table border=\"1\" class=\"dataframe\">\n",
       "  <thead>\n",
       "    <tr style=\"text-align: right;\">\n",
       "      <th></th>\n",
       "      <th>product_name</th>\n",
       "      <th>product_price</th>\n",
       "      <th>weight</th>\n",
       "      <th>category</th>\n",
       "      <th>EAN</th>\n",
       "      <th>date_added</th>\n",
       "      <th>uuid</th>\n",
       "      <th>removed</th>\n",
       "      <th>product_code</th>\n",
       "    </tr>\n",
       "  </thead>\n",
       "  <tbody>\n",
       "    <tr>\n",
       "      <th>307</th>\n",
       "      <td>Pets Pantry Complete Meaty Chunks Beef 2.75kg</td>\n",
       "      <td>£3.69</td>\n",
       "      <td>2.75kg</td>\n",
       "      <td>pets</td>\n",
       "      <td>4525436759460</td>\n",
       "      <td>2018 October 22</td>\n",
       "      <td>6fc67918-7940-4b1f-bba4-47f3e6dfc578</td>\n",
       "      <td>Still_avaliable</td>\n",
       "      <td>l1-2836416D</td>\n",
       "    </tr>\n",
       "    <tr>\n",
       "      <th>751</th>\n",
       "      <td>VLPCU81M30</td>\n",
       "      <td>XCD69KUI0K</td>\n",
       "      <td>9GO9NZ5JTL</td>\n",
       "      <td>S1YB74MLMJ</td>\n",
       "      <td>OO7KH8P79I</td>\n",
       "      <td>CCAVRB79VV</td>\n",
       "      <td>7QB0Z9EW1G</td>\n",
       "      <td>T3QRRH7SRP</td>\n",
       "      <td>SDAV678FVD</td>\n",
       "    </tr>\n",
       "    <tr>\n",
       "      <th>1133</th>\n",
       "      <td>9SX4G65YUX</td>\n",
       "      <td>N9D2BZQX63</td>\n",
       "      <td>Z8ZTDGUZVU</td>\n",
       "      <td>C3NCA2CL35</td>\n",
       "      <td>E8EOGWOY8S</td>\n",
       "      <td>09KREHTMWL</td>\n",
       "      <td>CP8XYQVGGU</td>\n",
       "      <td>BPSADIOQOK</td>\n",
       "      <td>BSDTR67VD90</td>\n",
       "    </tr>\n",
       "    <tr>\n",
       "      <th>1217</th>\n",
       "      <td>Black Ceramic Vase</td>\n",
       "      <td>£8.00</td>\n",
       "      <td>650g</td>\n",
       "      <td>homeware</td>\n",
       "      <td>5806423927017</td>\n",
       "      <td>September 2017 06</td>\n",
       "      <td>38f124ff-1d42-4359-96f0-91490c9a6f26</td>\n",
       "      <td>Still_avaliable</td>\n",
       "      <td>M6-7203684r</td>\n",
       "    </tr>\n",
       "    <tr>\n",
       "      <th>1400</th>\n",
       "      <td>LB3D71C025</td>\n",
       "      <td>ODPMASE7V7</td>\n",
       "      <td>MX180RYSHX</td>\n",
       "      <td>WVPMHZP59U</td>\n",
       "      <td>BHPF2JTNKQ</td>\n",
       "      <td>PEPWA0NCVH</td>\n",
       "      <td>VIBLHHVPMN</td>\n",
       "      <td>H5N71TV8AY</td>\n",
       "      <td>OPSD21HN67</td>\n",
       "    </tr>\n",
       "  </tbody>\n",
       "</table>\n",
       "</div>"
      ],
      "text/plain": [
       "                                       product_name product_price      weight  \\\n",
       "307   Pets Pantry Complete Meaty Chunks Beef 2.75kg         £3.69      2.75kg   \n",
       "751                                      VLPCU81M30    XCD69KUI0K  9GO9NZ5JTL   \n",
       "1133                                     9SX4G65YUX    N9D2BZQX63  Z8ZTDGUZVU   \n",
       "1217                             Black Ceramic Vase         £8.00        650g   \n",
       "1400                                     LB3D71C025    ODPMASE7V7  MX180RYSHX   \n",
       "\n",
       "        category            EAN         date_added  \\\n",
       "307         pets  4525436759460    2018 October 22   \n",
       "751   S1YB74MLMJ     OO7KH8P79I         CCAVRB79VV   \n",
       "1133  C3NCA2CL35     E8EOGWOY8S         09KREHTMWL   \n",
       "1217    homeware  5806423927017  September 2017 06   \n",
       "1400  WVPMHZP59U     BHPF2JTNKQ         PEPWA0NCVH   \n",
       "\n",
       "                                      uuid          removed product_code  \n",
       "307   6fc67918-7940-4b1f-bba4-47f3e6dfc578  Still_avaliable  l1-2836416D  \n",
       "751                             7QB0Z9EW1G       T3QRRH7SRP   SDAV678FVD  \n",
       "1133                            CP8XYQVGGU       BPSADIOQOK  BSDTR67VD90  \n",
       "1217  38f124ff-1d42-4359-96f0-91490c9a6f26  Still_avaliable  M6-7203684r  \n",
       "1400                            VIBLHHVPMN       H5N71TV8AY   OPSD21HN67  "
      ]
     },
     "execution_count": 16,
     "metadata": {},
     "output_type": "execute_result"
    }
   ],
   "source": [
    "products_df[products_df['date_added'].str.contains('[A-Za-z ]+', regex=True, na=False)]"
   ]
  },
  {
   "cell_type": "code",
   "execution_count": 3,
   "metadata": {},
   "outputs": [],
   "source": [
    "products_df['date_added'] = pd.to_datetime(products_df['date_added'], errors='coerce')"
   ]
  },
  {
   "cell_type": "code",
   "execution_count": 20,
   "metadata": {},
   "outputs": [
    {
     "data": {
      "text/html": [
       "<div>\n",
       "<style scoped>\n",
       "    .dataframe tbody tr th:only-of-type {\n",
       "        vertical-align: middle;\n",
       "    }\n",
       "\n",
       "    .dataframe tbody tr th {\n",
       "        vertical-align: top;\n",
       "    }\n",
       "\n",
       "    .dataframe thead th {\n",
       "        text-align: right;\n",
       "    }\n",
       "</style>\n",
       "<table border=\"1\" class=\"dataframe\">\n",
       "  <thead>\n",
       "    <tr style=\"text-align: right;\">\n",
       "      <th></th>\n",
       "      <th>product_name</th>\n",
       "      <th>product_price</th>\n",
       "      <th>weight</th>\n",
       "      <th>category</th>\n",
       "      <th>EAN</th>\n",
       "      <th>date_added</th>\n",
       "      <th>uuid</th>\n",
       "      <th>removed</th>\n",
       "      <th>product_code</th>\n",
       "    </tr>\n",
       "  </thead>\n",
       "  <tbody>\n",
       "    <tr>\n",
       "      <th>266</th>\n",
       "      <td>NaN</td>\n",
       "      <td>NaN</td>\n",
       "      <td>NaN</td>\n",
       "      <td>NaN</td>\n",
       "      <td>NaN</td>\n",
       "      <td>NaT</td>\n",
       "      <td>NaN</td>\n",
       "      <td>NaN</td>\n",
       "      <td>NaN</td>\n",
       "    </tr>\n",
       "    <tr>\n",
       "      <th>788</th>\n",
       "      <td>NaN</td>\n",
       "      <td>NaN</td>\n",
       "      <td>NaN</td>\n",
       "      <td>NaN</td>\n",
       "      <td>NaN</td>\n",
       "      <td>NaT</td>\n",
       "      <td>NaN</td>\n",
       "      <td>NaN</td>\n",
       "      <td>NaN</td>\n",
       "    </tr>\n",
       "    <tr>\n",
       "      <th>794</th>\n",
       "      <td>NaN</td>\n",
       "      <td>NaN</td>\n",
       "      <td>NaN</td>\n",
       "      <td>NaN</td>\n",
       "      <td>NaN</td>\n",
       "      <td>NaT</td>\n",
       "      <td>NaN</td>\n",
       "      <td>NaN</td>\n",
       "      <td>NaN</td>\n",
       "    </tr>\n",
       "    <tr>\n",
       "      <th>1660</th>\n",
       "      <td>NaN</td>\n",
       "      <td>NaN</td>\n",
       "      <td>NaN</td>\n",
       "      <td>NaN</td>\n",
       "      <td>NaN</td>\n",
       "      <td>NaT</td>\n",
       "      <td>NaN</td>\n",
       "      <td>NaN</td>\n",
       "      <td>NaN</td>\n",
       "    </tr>\n",
       "  </tbody>\n",
       "</table>\n",
       "</div>"
      ],
      "text/plain": [
       "     product_name product_price weight category  EAN date_added uuid removed  \\\n",
       "266           NaN           NaN    NaN      NaN  NaN        NaT  NaN     NaN   \n",
       "788           NaN           NaN    NaN      NaN  NaN        NaT  NaN     NaN   \n",
       "794           NaN           NaN    NaN      NaN  NaN        NaT  NaN     NaN   \n",
       "1660          NaN           NaN    NaN      NaN  NaN        NaT  NaN     NaN   \n",
       "\n",
       "     product_code  \n",
       "266           NaN  \n",
       "788           NaN  \n",
       "794           NaN  \n",
       "1660          NaN  "
      ]
     },
     "execution_count": 20,
     "metadata": {},
     "output_type": "execute_result"
    }
   ],
   "source": [
    "products_df[products_df['product_name'].isna()]"
   ]
  },
  {
   "cell_type": "code",
   "execution_count": 4,
   "metadata": {},
   "outputs": [],
   "source": [
    "products_df.dropna(how='all', inplace=True)"
   ]
  },
  {
   "cell_type": "code",
   "execution_count": 22,
   "metadata": {},
   "outputs": [
    {
     "data": {
      "text/html": [
       "<div>\n",
       "<style scoped>\n",
       "    .dataframe tbody tr th:only-of-type {\n",
       "        vertical-align: middle;\n",
       "    }\n",
       "\n",
       "    .dataframe tbody tr th {\n",
       "        vertical-align: top;\n",
       "    }\n",
       "\n",
       "    .dataframe thead th {\n",
       "        text-align: right;\n",
       "    }\n",
       "</style>\n",
       "<table border=\"1\" class=\"dataframe\">\n",
       "  <thead>\n",
       "    <tr style=\"text-align: right;\">\n",
       "      <th></th>\n",
       "      <th>product_name</th>\n",
       "      <th>product_price</th>\n",
       "      <th>weight</th>\n",
       "      <th>category</th>\n",
       "      <th>EAN</th>\n",
       "      <th>date_added</th>\n",
       "      <th>uuid</th>\n",
       "      <th>removed</th>\n",
       "      <th>product_code</th>\n",
       "    </tr>\n",
       "  </thead>\n",
       "  <tbody>\n",
       "  </tbody>\n",
       "</table>\n",
       "</div>"
      ],
      "text/plain": [
       "Empty DataFrame\n",
       "Columns: [product_name, product_price, weight, category, EAN, date_added, uuid, removed, product_code]\n",
       "Index: []"
      ]
     },
     "execution_count": 22,
     "metadata": {},
     "output_type": "execute_result"
    }
   ],
   "source": [
    "products_df[products_df['product_name'].isna()]"
   ]
  },
  {
   "cell_type": "code",
   "execution_count": 5,
   "metadata": {},
   "outputs": [],
   "source": [
    "products_df = products_df.loc[products_df['date_added'].notna()]\n",
    "products_df = products_df.reset_index(drop=True)"
   ]
  },
  {
   "cell_type": "code",
   "execution_count": 6,
   "metadata": {},
   "outputs": [],
   "source": [
    "try:\n",
    "    products_df['product_price'] = products_df['product_price'].str.replace('£', '')\n",
    "except AttributeError:\n",
    "    pass"
   ]
  },
  {
   "cell_type": "code",
   "execution_count": 7,
   "metadata": {},
   "outputs": [],
   "source": [
    "products_df['product_price'] = pd.to_numeric(products_df['product_price'])"
   ]
  },
  {
   "cell_type": "code",
   "execution_count": 42,
   "metadata": {},
   "outputs": [
    {
     "data": {
      "text/plain": [
       "count    1846.000000\n",
       "mean       16.013814\n",
       "std        16.760812\n",
       "min         0.390000\n",
       "25%         4.000000\n",
       "50%        12.000000\n",
       "75%        22.000000\n",
       "max       270.000000\n",
       "Name: product_price, dtype: float64"
      ]
     },
     "execution_count": 42,
     "metadata": {},
     "output_type": "execute_result"
    }
   ],
   "source": [
    "products_df['product_price'].describe()"
   ]
  },
  {
   "cell_type": "code",
   "execution_count": 8,
   "metadata": {},
   "outputs": [],
   "source": [
    "products_df['EAN'] = pd.to_numeric(products_df['EAN'])"
   ]
  },
  {
   "cell_type": "code",
   "execution_count": 9,
   "metadata": {},
   "outputs": [],
   "source": [
    "products_df['category'] = products_df['category'].astype('category')\n",
    "products_df['removed'] = products_df['removed'].astype('category')"
   ]
  },
  {
   "cell_type": "code",
   "execution_count": 51,
   "metadata": {},
   "outputs": [
    {
     "data": {
      "text/plain": [
       "Still_avaliable    1752\n",
       "Removed              94\n",
       "Name: removed, dtype: int64"
      ]
     },
     "execution_count": 51,
     "metadata": {},
     "output_type": "execute_result"
    }
   ],
   "source": [
    "products_df['removed'].value_counts()"
   ]
  },
  {
   "cell_type": "code",
   "execution_count": 54,
   "metadata": {},
   "outputs": [
    {
     "data": {
      "text/plain": [
       "count            1846\n",
       "unique           1846\n",
       "top       R7-3126933h\n",
       "freq                1\n",
       "Name: product_code, dtype: object"
      ]
     },
     "execution_count": 54,
     "metadata": {},
     "output_type": "execute_result"
    }
   ],
   "source": [
    "products_df['product_code'].describe()"
   ]
  },
  {
   "cell_type": "code",
   "execution_count": 43,
   "metadata": {},
   "outputs": [],
   "source": [
    "a = '9.4kg'\n",
    "b = '10kg'\n",
    "c = '10 x .99g 1000.99h'\n",
    "d = '90.g'\n",
    "e = '1 x 20.20g'\n",
    "f = '70g.'\n",
    "g = '    16.20oz '"
   ]
  },
  {
   "cell_type": "code",
   "execution_count": 12,
   "metadata": {},
   "outputs": [
    {
     "name": "stdout",
     "output_type": "stream",
     "text": [
      "20.20\n"
     ]
    }
   ],
   "source": [
    "# get just the numberic values and also identify where two numbers exist\n",
    "if len(regex.findall('\\d*\\.?\\d+', e)) > 1:\n",
    "    print(regex.findall('\\d*\\.?\\d+', e)[1])\n",
    "else:\n",
    "    regex.findall('\\d*\\.?\\d+', e)"
   ]
  },
  {
   "cell_type": "code",
   "execution_count": 44,
   "metadata": {},
   "outputs": [
    {
     "data": {
      "text/plain": [
       "'1'"
      ]
     },
     "execution_count": 44,
     "metadata": {},
     "output_type": "execute_result"
    }
   ],
   "source": [
    "regex.findall('\\d+\\sx', e)[0].split(' ')[0]"
   ]
  },
  {
   "cell_type": "code",
   "execution_count": 27,
   "metadata": {},
   "outputs": [
    {
     "data": {
      "text/plain": [
       "('16.20', 'oz')"
      ]
     },
     "execution_count": 27,
     "metadata": {},
     "output_type": "execute_result"
    }
   ],
   "source": [
    "#OR get the weight value + unit first and then just the weight \n",
    "weight_with_unit = regex.findall('\\S\\d*\\.?\\d*[A-Za-z]+', g)[0]\n",
    "weight_value, weight_unit = [regex.search('\\d*\\.?\\d*', weight_with_unit).group(),regex.search('[A-Za-z]+', weight_with_unit).group()]\n",
    "weight_value, weight_unit"
   ]
  },
  {
   "cell_type": "code",
   "execution_count": 45,
   "metadata": {},
   "outputs": [],
   "source": [
    "# get the weight value, unit, multiplier, if any \n",
    "products_df['weight_only'] = products_df['weight'].apply(lambda w : regex.findall('\\S\\d*\\.?\\d*[A-Za-z]+', w)[0])\n",
    "products_df['weight_multiplier'] = products_df['weight'].apply(lambda x : int(regex.findall('\\d+\\sx', x)[0].split(' ')[0]) if bool(regex.findall('\\d+\\sx', x)) == True else 1)\n"
   ]
  },
  {
   "cell_type": "code",
   "execution_count": 51,
   "metadata": {},
   "outputs": [],
   "source": [
    "# get the weight value, unit, multiplier, if any (cont'd)\n",
    "products_df['weight_value'] = products_df['weight_only'].apply(lambda x : regex.search('\\d*\\.?\\d*', x).group())\n",
    "products_df['weight_unit'] = products_df['weight_only'].apply(lambda x : regex.search('[A-Za-z]+', x).group())"
   ]
  },
  {
   "cell_type": "code",
   "execution_count": 68,
   "metadata": {},
   "outputs": [
    {
     "data": {
      "text/plain": [
       "(float, 28.3495)"
      ]
     },
     "execution_count": 68,
     "metadata": {},
     "output_type": "execute_result"
    }
   ],
   "source": [
    "conv_to_g_factors = {'kg' : 1000, 'g' : 1, 'ml' : 1, 'oz' : 28.3495}\n",
    "type(conv_to_g_factors.get('oz')), conv_to_g_factors.get('oz')"
   ]
  },
  {
   "cell_type": "code",
   "execution_count": 69,
   "metadata": {},
   "outputs": [],
   "source": [
    "# add conversion factor to convert kg, g, ml, oz to g vals\n",
    "products_df['conv_to_g_factor'] = products_df['weight_unit'].apply(lambda unit : conv_to_g_factors.get(unit))\n"
   ]
  },
  {
   "cell_type": "code",
   "execution_count": 75,
   "metadata": {},
   "outputs": [],
   "source": [
    "# finally multiply the columns, i.e. weight_value x multiplier x conv_factor = weight in grams\n",
    "products_df['weight_grams'] = products_df['weight_value'].astype(float) * products_df['weight_multiplier'].astype(float) * products_df['conv_to_g_factor']"
   ]
  },
  {
   "cell_type": "code",
   "execution_count": 80,
   "metadata": {},
   "outputs": [
    {
     "data": {
      "text/plain": [
       "Index(['product_name', 'product_price', 'weight', 'category', 'EAN',\n",
       "       'date_added', 'uuid', 'removed', 'product_code', 'weight_only',\n",
       "       'weight_multiplier', 'weight_value', 'weight_unit', 'conv_to_g_factor',\n",
       "       'weight_grams'],\n",
       "      dtype='object')"
      ]
     },
     "execution_count": 80,
     "metadata": {},
     "output_type": "execute_result"
    }
   ],
   "source": [
    "products_df.columns"
   ]
  },
  {
   "cell_type": "code",
   "execution_count": 81,
   "metadata": {},
   "outputs": [],
   "source": [
    "# drop columns no longer needed\n",
    "products_df.drop(columns=['weight_only', 'weight_multiplier', 'weight_value', 'weight_unit', 'conv_to_g_factor'], inplace=True)"
   ]
  },
  {
   "cell_type": "code",
   "execution_count": 83,
   "metadata": {},
   "outputs": [
    {
     "name": "stdout",
     "output_type": "stream",
     "text": [
      "<class 'pandas.core.frame.DataFrame'>\n",
      "RangeIndex: 1846 entries, 0 to 1845\n",
      "Data columns (total 10 columns):\n",
      " #   Column         Non-Null Count  Dtype         \n",
      "---  ------         --------------  -----         \n",
      " 0   product_name   1846 non-null   object        \n",
      " 1   product_price  1846 non-null   float64       \n",
      " 2   weight         1846 non-null   object        \n",
      " 3   category       1846 non-null   category      \n",
      " 4   EAN            1846 non-null   int64         \n",
      " 5   date_added     1846 non-null   datetime64[ns]\n",
      " 6   uuid           1846 non-null   object        \n",
      " 7   removed        1846 non-null   category      \n",
      " 8   product_code   1846 non-null   object        \n",
      " 9   weight_grams   1846 non-null   float64       \n",
      "dtypes: category(2), datetime64[ns](1), float64(2), int64(1), object(4)\n",
      "memory usage: 119.6+ KB\n"
     ]
    }
   ],
   "source": [
    "products_df.info()"
   ]
  },
  {
   "cell_type": "code",
   "execution_count": null,
   "metadata": {},
   "outputs": [],
   "source": []
  }
 ],
 "metadata": {
  "kernelspec": {
   "display_name": "rdbs_env",
   "language": "python",
   "name": "python3"
  },
  "language_info": {
   "codemirror_mode": {
    "name": "ipython",
    "version": 3
   },
   "file_extension": ".py",
   "mimetype": "text/x-python",
   "name": "python",
   "nbconvert_exporter": "python",
   "pygments_lexer": "ipython3",
   "version": "3.10.8"
  },
  "orig_nbformat": 4,
  "vscode": {
   "interpreter": {
    "hash": "c747cf359c5d62baf35d647440ab2dec90826336fb959519a83a27651a4a271e"
   }
  }
 },
 "nbformat": 4,
 "nbformat_minor": 2
}
